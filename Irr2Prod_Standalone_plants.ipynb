{
 "cells": [
  {
   "cell_type": "markdown",
   "metadata": {},
   "source": [
    "# This notebook\n",
    "\n",
    "This is the continuation of IrrToProduction but by focusing onn a single plant at a time.\n",
    "\n",
    "## Goals\n",
    "\n",
    "- Predict AC_POWER with good accuracy and without offerfitting\n",
    "- Forecast AC_POWER"
   ]
  },
  {
   "cell_type": "markdown",
   "metadata": {},
   "source": [
    "### Predict AC_POWER"
   ]
  },
  {
   "cell_type": "code",
   "execution_count": 2,
   "metadata": {},
   "outputs": [],
   "source": [
    "# Import\n",
    "\n",
    "import numpy as np \n",
    "import pandas as pd\n",
    "import seaborn as sns\n",
    "import matplotlib.pyplot as plt\n",
    "import lightgbm as lgb\n",
    "\n",
    "from sklearn.model_selection import RandomizedSearchCV, GridSearchCV\n",
    "from sklearn.preprocessing import PolynomialFeatures\n",
    "from sklearn.linear_model import LinearRegression\n",
    "from sklearn.ensemble import GradientBoostingRegressor\n",
    "from sklearn.pipeline import  make_pipeline\n",
    "from sklearn.model_selection import train_test_split\n",
    "from sklearn.metrics import r2_score, mean_absolute_error,mean_squared_error"
   ]
  },
  {
   "cell_type": "code",
   "execution_count": 3,
   "metadata": {},
   "outputs": [],
   "source": [
    "# Import & Transforms data\n",
    "def preprocess(d, plant_nb):\n",
    "    d[\"generator\"] = d[\"generator\"].drop(columns=[\"SOURCE_KEY\", \"PLANT_ID\", \"DC_POWER\", \"TOTAL_YIELD\", \"DAILY_YIELD\"])\n",
    "    d['generator']['DATE_TIME'] = pd.to_datetime(d['generator']['DATE_TIME'], format='%d-%m-%Y %H:%M') if plant_nb==1 else pd.to_datetime(d['generator']['DATE_TIME'], format='%Y-%m-%d %H:%M:%S')\n",
    "    d[\"sensor\"] = d[\"sensor\"].drop(columns=[\"time\", \"date\"])\n",
    "    X = d['generator'].merge(d[\"sensor\"], on=\"DATE_TIME\").drop(columns=[\"DATE_TIME\"])\n",
    "    y = X.pop(\"AC_POWER\")\n",
    "    return X, y \n",
    "\n",
    "\n",
    "p1_X, p1_y = preprocess({\"generator\": pd.read_csv(\"dataset/Plant_1_Generation_Data.csv\"), \n",
    "           \"sensor\": pd.read_parquet(\"dataset/parquets/plant_1_updated_sensor\")}, 1)\n",
    "\n",
    "p2_X, p2_y = preprocess({\"generator\": pd.read_csv(\"dataset/Plant_2_Generation_Data.csv\"), \n",
    "           \"sensor\": pd.read_parquet(\"dataset/parquets/plant_2_updated_sensor\")}, 2)\n",
    "\n",
    "x_train, x_test, y_train, y_test = train_test_split(p1_X, p1_y, test_size=.5)"
   ]
  },
  {
   "cell_type": "code",
   "execution_count": 4,
   "metadata": {},
   "outputs": [
    {
     "name": "stdout",
     "output_type": "stream",
     "text": [
      "[LightGBM] [Warning] Unknown parameter: max_features\n",
      "[LightGBM] [Warning] lambda_l2 is set=0.01, reg_lambda=0.0 will be ignored. Current value: lambda_l2=0.01\n",
      "[LightGBM] [Warning] Accuracy may be bad since you didn't explicitly set num_leaves OR 2^max_depth > num_leaves. (num_leaves=31).\n",
      "[LightGBM] [Warning] Unknown parameter: max_features\n",
      "[LightGBM] [Warning] lambda_l2 is set=0.01, reg_lambda=0.0 will be ignored. Current value: lambda_l2=0.01\n",
      "[LightGBM] [Warning] Accuracy may be bad since you didn't explicitly set num_leaves OR 2^max_depth > num_leaves. (num_leaves=31).\n",
      "[LightGBM] [Info] Auto-choosing row-wise multi-threading, the overhead of testing was 0.000469 seconds.\n",
      "You can set `force_row_wise=true` to remove the overhead.\n",
      "And if memory is not enough, you can set `force_col_wise=true`.\n",
      "[LightGBM] [Info] Total Bins 861\n",
      "[LightGBM] [Info] Number of data points in the train set: 34389, number of used features: 4\n",
      "[LightGBM] [Info] Start training from score 306.373374\n",
      "[LightGBM] [Warning] No further splits with positive gain, best gain: -inf\n",
      "[LightGBM] [Warning] No further splits with positive gain, best gain: -inf\n",
      "[LightGBM] [Warning] No further splits with positive gain, best gain: -inf\n"
     ]
    },
    {
     "data": {
      "text/html": [
       "<style>#sk-container-id-1 {color: black;}#sk-container-id-1 pre{padding: 0;}#sk-container-id-1 div.sk-toggleable {background-color: white;}#sk-container-id-1 label.sk-toggleable__label {cursor: pointer;display: block;width: 100%;margin-bottom: 0;padding: 0.3em;box-sizing: border-box;text-align: center;}#sk-container-id-1 label.sk-toggleable__label-arrow:before {content: \"▸\";float: left;margin-right: 0.25em;color: #696969;}#sk-container-id-1 label.sk-toggleable__label-arrow:hover:before {color: black;}#sk-container-id-1 div.sk-estimator:hover label.sk-toggleable__label-arrow:before {color: black;}#sk-container-id-1 div.sk-toggleable__content {max-height: 0;max-width: 0;overflow: hidden;text-align: left;background-color: #f0f8ff;}#sk-container-id-1 div.sk-toggleable__content pre {margin: 0.2em;color: black;border-radius: 0.25em;background-color: #f0f8ff;}#sk-container-id-1 input.sk-toggleable__control:checked~div.sk-toggleable__content {max-height: 200px;max-width: 100%;overflow: auto;}#sk-container-id-1 input.sk-toggleable__control:checked~label.sk-toggleable__label-arrow:before {content: \"▾\";}#sk-container-id-1 div.sk-estimator input.sk-toggleable__control:checked~label.sk-toggleable__label {background-color: #d4ebff;}#sk-container-id-1 div.sk-label input.sk-toggleable__control:checked~label.sk-toggleable__label {background-color: #d4ebff;}#sk-container-id-1 input.sk-hidden--visually {border: 0;clip: rect(1px 1px 1px 1px);clip: rect(1px, 1px, 1px, 1px);height: 1px;margin: -1px;overflow: hidden;padding: 0;position: absolute;width: 1px;}#sk-container-id-1 div.sk-estimator {font-family: monospace;background-color: #f0f8ff;border: 1px dotted black;border-radius: 0.25em;box-sizing: border-box;margin-bottom: 0.5em;}#sk-container-id-1 div.sk-estimator:hover {background-color: #d4ebff;}#sk-container-id-1 div.sk-parallel-item::after {content: \"\";width: 100%;border-bottom: 1px solid gray;flex-grow: 1;}#sk-container-id-1 div.sk-label:hover label.sk-toggleable__label {background-color: #d4ebff;}#sk-container-id-1 div.sk-serial::before {content: \"\";position: absolute;border-left: 1px solid gray;box-sizing: border-box;top: 0;bottom: 0;left: 50%;z-index: 0;}#sk-container-id-1 div.sk-serial {display: flex;flex-direction: column;align-items: center;background-color: white;padding-right: 0.2em;padding-left: 0.2em;position: relative;}#sk-container-id-1 div.sk-item {position: relative;z-index: 1;}#sk-container-id-1 div.sk-parallel {display: flex;align-items: stretch;justify-content: center;background-color: white;position: relative;}#sk-container-id-1 div.sk-item::before, #sk-container-id-1 div.sk-parallel-item::before {content: \"\";position: absolute;border-left: 1px solid gray;box-sizing: border-box;top: 0;bottom: 0;left: 50%;z-index: -1;}#sk-container-id-1 div.sk-parallel-item {display: flex;flex-direction: column;z-index: 1;position: relative;background-color: white;}#sk-container-id-1 div.sk-parallel-item:first-child::after {align-self: flex-end;width: 50%;}#sk-container-id-1 div.sk-parallel-item:last-child::after {align-self: flex-start;width: 50%;}#sk-container-id-1 div.sk-parallel-item:only-child::after {width: 0;}#sk-container-id-1 div.sk-dashed-wrapped {border: 1px dashed gray;margin: 0 0.4em 0.5em 0.4em;box-sizing: border-box;padding-bottom: 0.4em;background-color: white;}#sk-container-id-1 div.sk-label label {font-family: monospace;font-weight: bold;display: inline-block;line-height: 1.2em;}#sk-container-id-1 div.sk-label-container {text-align: center;}#sk-container-id-1 div.sk-container {/* jupyter's `normalize.less` sets `[hidden] { display: none; }` but bootstrap.min.css set `[hidden] { display: none !important; }` so we also need the `!important` here to be able to override the default hidden behavior on the sphinx rendered scikit-learn.org. See: https://github.com/scikit-learn/scikit-learn/issues/21755 */display: inline-block !important;position: relative;}#sk-container-id-1 div.sk-text-repr-fallback {display: none;}</style><div id=\"sk-container-id-1\" class=\"sk-top-container\"><div class=\"sk-text-repr-fallback\"><pre>RandomizedSearchCV(estimator=LGBMRegressor(), n_iter=500, n_jobs=-1,\n",
       "                   param_distributions={&#x27;lambda_l2&#x27;: array([0.01  , 0.1325, 0.255 , 0.3775, 0.5   ]),\n",
       "                                        &#x27;learning_rate&#x27;: array([0.01   , 0.05125, 0.0925 , 0.13375, 0.175  , 0.21625, 0.2575 ,\n",
       "       0.29875, 0.34   , 0.38125, 0.4225 , 0.46375, 0.505  , 0.54625,\n",
       "       0.5875 , 0.62875, 0.67   , 0.71125, 0.7525 , 0.79375, 0.835  ,\n",
       "       0.87625, 0.9175 , 0.95875, 1.     ]),\n",
       "                                        &#x27;max_depth&#x27;: array([2, 3, 4, 5, 6, 7, 8, 9]),\n",
       "                                        &#x27;max_features&#x27;: array([0.1  , 0.325, 0.55 , 0.775, 1.   ]),\n",
       "                                        &#x27;n_estimators&#x27;: array([ 50,  55,  60,  65,  70,  75,  80,  85,  90,  95, 100, 105, 110,\n",
       "       115, 120, 125, 130, 135, 140, 145, 150, 155, 160, 165, 170, 175,\n",
       "       180, 185, 190, 195]),\n",
       "                                        &#x27;subsample&#x27;: array([0.1 , 0.35, 0.6 , 0.85])})</pre><b>In a Jupyter environment, please rerun this cell to show the HTML representation or trust the notebook. <br />On GitHub, the HTML representation is unable to render, please try loading this page with nbviewer.org.</b></div><div class=\"sk-container\" hidden><div class=\"sk-item sk-dashed-wrapped\"><div class=\"sk-label-container\"><div class=\"sk-label sk-toggleable\"><input class=\"sk-toggleable__control sk-hidden--visually\" id=\"sk-estimator-id-1\" type=\"checkbox\" ><label for=\"sk-estimator-id-1\" class=\"sk-toggleable__label sk-toggleable__label-arrow\">RandomizedSearchCV</label><div class=\"sk-toggleable__content\"><pre>RandomizedSearchCV(estimator=LGBMRegressor(), n_iter=500, n_jobs=-1,\n",
       "                   param_distributions={&#x27;lambda_l2&#x27;: array([0.01  , 0.1325, 0.255 , 0.3775, 0.5   ]),\n",
       "                                        &#x27;learning_rate&#x27;: array([0.01   , 0.05125, 0.0925 , 0.13375, 0.175  , 0.21625, 0.2575 ,\n",
       "       0.29875, 0.34   , 0.38125, 0.4225 , 0.46375, 0.505  , 0.54625,\n",
       "       0.5875 , 0.62875, 0.67   , 0.71125, 0.7525 , 0.79375, 0.835  ,\n",
       "       0.87625, 0.9175 , 0.95875, 1.     ]),\n",
       "                                        &#x27;max_depth&#x27;: array([2, 3, 4, 5, 6, 7, 8, 9]),\n",
       "                                        &#x27;max_features&#x27;: array([0.1  , 0.325, 0.55 , 0.775, 1.   ]),\n",
       "                                        &#x27;n_estimators&#x27;: array([ 50,  55,  60,  65,  70,  75,  80,  85,  90,  95, 100, 105, 110,\n",
       "       115, 120, 125, 130, 135, 140, 145, 150, 155, 160, 165, 170, 175,\n",
       "       180, 185, 190, 195]),\n",
       "                                        &#x27;subsample&#x27;: array([0.1 , 0.35, 0.6 , 0.85])})</pre></div></div></div><div class=\"sk-parallel\"><div class=\"sk-parallel-item\"><div class=\"sk-item\"><div class=\"sk-label-container\"><div class=\"sk-label sk-toggleable\"><input class=\"sk-toggleable__control sk-hidden--visually\" id=\"sk-estimator-id-2\" type=\"checkbox\" ><label for=\"sk-estimator-id-2\" class=\"sk-toggleable__label sk-toggleable__label-arrow\">estimator: LGBMRegressor</label><div class=\"sk-toggleable__content\"><pre>LGBMRegressor()</pre></div></div></div><div class=\"sk-serial\"><div class=\"sk-item\"><div class=\"sk-estimator sk-toggleable\"><input class=\"sk-toggleable__control sk-hidden--visually\" id=\"sk-estimator-id-3\" type=\"checkbox\" ><label for=\"sk-estimator-id-3\" class=\"sk-toggleable__label sk-toggleable__label-arrow\">LGBMRegressor</label><div class=\"sk-toggleable__content\"><pre>LGBMRegressor()</pre></div></div></div></div></div></div></div></div></div></div>"
      ],
      "text/plain": [
       "RandomizedSearchCV(estimator=LGBMRegressor(), n_iter=500, n_jobs=-1,\n",
       "                   param_distributions={'lambda_l2': array([0.01  , 0.1325, 0.255 , 0.3775, 0.5   ]),\n",
       "                                        'learning_rate': array([0.01   , 0.05125, 0.0925 , 0.13375, 0.175  , 0.21625, 0.2575 ,\n",
       "       0.29875, 0.34   , 0.38125, 0.4225 , 0.46375, 0.505  , 0.54625,\n",
       "       0.5875 , 0.62875, 0.67   , 0.71125, 0.7525 , 0.79375, 0.835  ,\n",
       "       0.87625, 0.9175 , 0.95875, 1.     ]),\n",
       "                                        'max_depth': array([2, 3, 4, 5, 6, 7, 8, 9]),\n",
       "                                        'max_features': array([0.1  , 0.325, 0.55 , 0.775, 1.   ]),\n",
       "                                        'n_estimators': array([ 50,  55,  60,  65,  70,  75,  80,  85,  90,  95, 100, 105, 110,\n",
       "       115, 120, 125, 130, 135, 140, 145, 150, 155, 160, 165, 170, 175,\n",
       "       180, 185, 190, 195]),\n",
       "                                        'subsample': array([0.1 , 0.35, 0.6 , 0.85])})"
      ]
     },
     "execution_count": 4,
     "metadata": {},
     "output_type": "execute_result"
    }
   ],
   "source": [
    "# Train\n",
    "param_dist = {\n",
    "    'n_estimators': np.arange(50, 200, 5),\n",
    "    'max_depth': np.arange(2, 10, 1),\n",
    "    'learning_rate': np.linspace(0.01, 1, 25),\n",
    "    'subsample': np.arange(0.1, 1.0, 0.25), \n",
    "    'max_features': np.linspace(0.1, 1.0, 5),\n",
    "    'lambda_l2': np.linspace(0.01, 0.5, 5),\n",
    "}\n",
    "\n",
    "model_search = RandomizedSearchCV(\n",
    "    lgb.LGBMRegressor(), \n",
    "    param_dist, \n",
    "    n_iter=500,\n",
    "    cv=None, \n",
    "    n_jobs=-1,\n",
    ")\n",
    "\n",
    "model_search.fit(x_train, y_train)\n"
   ]
  },
  {
   "cell_type": "code",
   "execution_count": 5,
   "metadata": {},
   "outputs": [
    {
     "name": "stdout",
     "output_type": "stream",
     "text": [
      "{'subsample': 0.6, 'n_estimators': 155, 'max_features': 0.775, 'max_depth': 8, 'learning_rate': 0.17500000000000002, 'lambda_l2': 0.01}\n"
     ]
    }
   ],
   "source": [
    "print(model_search.best_params_)"
   ]
  },
  {
   "cell_type": "code",
   "execution_count": 11,
   "metadata": {},
   "outputs": [],
   "source": [
    "# Test\n",
    "\n",
    "metrics = {\n",
    "    \"Name\":[],\n",
    "    \"R2\":[], \n",
    "    \"MAE\":[], \n",
    "    \"MSE\":[],\n",
    "    \"RMSE\":[],\n",
    "}"
   ]
  },
  {
   "cell_type": "code",
   "execution_count": 12,
   "metadata": {},
   "outputs": [
    {
     "name": "stdout",
     "output_type": "stream",
     "text": [
      "[LightGBM] [Warning] Unknown parameter: max_features\n",
      "[LightGBM] [Warning] lambda_l2 is set=0.01, reg_lambda=0.0 will be ignored. Current value: lambda_l2=0.01\n",
      "[LightGBM] [Warning] Accuracy may be bad since you didn't explicitly set num_leaves OR 2^max_depth > num_leaves. (num_leaves=31).\n"
     ]
    }
   ],
   "source": [
    "preds = model_search.predict(x_test)\n",
    "metrics['Name'].append(\"Plain\")\n",
    "metrics['R2'].append(r2_score(preds, y_test))\n",
    "metrics['MAE'].append(mean_absolute_error(preds, y_test))\n",
    "metrics['MSE'].append(mean_squared_error(preds, y_test, squared=True))\n",
    "metrics['RMSE'].append(mean_squared_error(preds, y_test, squared=False))"
   ]
  },
  {
   "cell_type": "code",
   "execution_count": 14,
   "metadata": {},
   "outputs": [
    {
     "data": {
      "text/html": [
       "<div>\n",
       "<style scoped>\n",
       "    .dataframe tbody tr th:only-of-type {\n",
       "        vertical-align: middle;\n",
       "    }\n",
       "\n",
       "    .dataframe tbody tr th {\n",
       "        vertical-align: top;\n",
       "    }\n",
       "\n",
       "    .dataframe thead th {\n",
       "        text-align: right;\n",
       "    }\n",
       "</style>\n",
       "<table border=\"1\" class=\"dataframe\">\n",
       "  <thead>\n",
       "    <tr style=\"text-align: right;\">\n",
       "      <th></th>\n",
       "      <th>Name</th>\n",
       "      <th>R2</th>\n",
       "      <th>MAE</th>\n",
       "      <th>MSE</th>\n",
       "      <th>RMSE</th>\n",
       "    </tr>\n",
       "  </thead>\n",
       "  <tbody>\n",
       "    <tr>\n",
       "      <th>0</th>\n",
       "      <td>Plain</td>\n",
       "      <td>0.984504</td>\n",
       "      <td>16.898603</td>\n",
       "      <td>2387.16098</td>\n",
       "      <td>48.858581</td>\n",
       "    </tr>\n",
       "  </tbody>\n",
       "</table>\n",
       "</div>"
      ],
      "text/plain": [
       "    Name        R2        MAE         MSE       RMSE\n",
       "0  Plain  0.984504  16.898603  2387.16098  48.858581"
      ]
     },
     "execution_count": 14,
     "metadata": {},
     "output_type": "execute_result"
    }
   ],
   "source": [
    "pd.DataFrame(metrics)"
   ]
  },
  {
   "cell_type": "markdown",
   "metadata": {},
   "source": [
    "### Forecast AC_POWER"
   ]
  },
  {
   "cell_type": "code",
   "execution_count": null,
   "metadata": {},
   "outputs": [],
   "source": []
  }
 ],
 "metadata": {
  "kernelspec": {
   "display_name": "tgpu",
   "language": "python",
   "name": "python3"
  },
  "language_info": {
   "codemirror_mode": {
    "name": "ipython",
    "version": 3
   },
   "file_extension": ".py",
   "mimetype": "text/x-python",
   "name": "python",
   "nbconvert_exporter": "python",
   "pygments_lexer": "ipython3",
   "version": "3.11.4"
  }
 },
 "nbformat": 4,
 "nbformat_minor": 2
}
