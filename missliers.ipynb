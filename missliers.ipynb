{
 "cells": [
  {
   "cell_type": "markdown",
   "metadata": {},
   "source": [
    "# Goal\n",
    "\n",
    "The goal of this notebook is to detect and replace the values of any loss of data\n",
    "\n",
    "## Sensor dataset"
   ]
  },
  {
   "cell_type": "markdown",
   "metadata": {},
   "source": [
    "We have two types of outliers in out dataset, missing data aka NaN or data putted as 0.\n",
    "For both temperatures, it's pretty straightforwards because the temps never goes below 20 degrees (roughly), so detecting missing values is easy.\n",
    "\n",
    "But for irradiation, we have to detect where values at 0 shouldn't be there.\n",
    "\n",
    "UPDDATE 1: Noticed that I was wrong, no real value at 0 but lots of missing values, not NaN but missing, so need to remake the dataset to add those dates and times at those points.\n",
    "\n",
    "To do that, we'll \"split\" the dataset use Kmeans clustering, and detect all values at 0 in the middle of the day.\n",
    "\n",
    "Afterwards, we'll be using the \"cleaned\" set to apply feature engineering for each columns, and finally chose, train and use a model to replace each missing/wrong values\n",
    "\n",
    "Finally, we'll save the new dataset as parquet file.\n"
   ]
  },
  {
   "cell_type": "markdown",
   "metadata": {},
   "source": []
  },
  {
   "cell_type": "code",
   "execution_count": 1,
   "metadata": {},
   "outputs": [],
   "source": [
    "from src.data_prep import *\n",
    "from src.feature_engineering import *\n",
    "from sklearn.model_selection import train_test_split\n",
    "\n",
    "# Load both training and dataset used for end completion. \n",
    "dfs = load_sensor(\"dataset/Plant_2_Weather_Sensor_Data.csv\", save=False)\n",
    "# Get the X and y for all expectedd values\n",
    "irr_X, irr_y = lone_sensor_for_irradiation(dfs[0])\n",
    "atemp_X, atemp_y = lone_sensor_for_ambient_temp(dfs[0])\n",
    "mtemp_X, mtemp_y = lone_sensor_for_module_temp(dfs[0])\n",
    "\n",
    "random_state_nb = 42\n",
    "test_size = 0.2\n",
    "\n",
    "irrX_train, irrX_dev, irry_train, irry_dev = train_test_split(irr_X, irr_y, test_size=test_size, random_state=random_state_nb)\n",
    "atempX_train, atempX_dev, atempy_train, atempy_dev = train_test_split(atemp_X, atemp_y, test_size=test_size, random_state=random_state_nb)\n",
    "mtempX_train, mtempX_dev, mtempy_train, mtempy_dev =  train_test_split(mtemp_X, mtemp_y, test_size=test_size, random_state=random_state_nb)\n",
    "\n",
    "\n",
    "Xs = {\n",
    "    'IRRADIATION': (irrX_train, irrX_dev),\n",
    "    'AMBIENT_TEMPERATURE': (atempX_train, atempX_dev),\n",
    "    'MODULE_TEMPERATURE': (mtempX_train, mtempX_dev),\n",
    "}\n",
    "\n",
    "ys = {\n",
    "    'IRRADIATION': (irry_train, irry_dev) ,\n",
    "    'AMBIENT_TEMPERATURE': (atempy_train, atempy_dev),\n",
    "    'MODULE_TEMPERATURE': (mtempy_train, mtempy_dev) ,\n",
    "}"
   ]
  },
  {
   "cell_type": "markdown",
   "metadata": {},
   "source": [
    "### IRRADIATION (Chosing best models)\n",
    "\n",
    "As suspecting non-linear relationships, I'll focus on those first models to take a grasp of our goals:\n",
    "- SVMs\n",
    "- DecisionTree\n",
    "- Random Forest\n",
    "- Gradient Boosting\n",
    "\n",
    "Additionnal models that can be noted for further tests:\n",
    "- Neural Nets\n",
    "- XGBoost\n",
    "- LightGBM\n",
    "\n",
    "These metrics will be used to get a good overview of models performances on requested tasks:\n",
    "- R-Squared\n",
    "- MAE\n",
    "- MSE\n",
    "- RMSE\n"
   ]
  },
  {
   "cell_type": "markdown",
   "metadata": {},
   "source": []
  },
  {
   "cell_type": "code",
   "execution_count": 2,
   "metadata": {},
   "outputs": [],
   "source": [
    "# Define and optimize the best model\n",
    "from src.optimization import *\n",
    "\n",
    "irr_model = GradientBoostingRegressor()\n",
    "mtemp_model = GradientBoostingRegressor()\n",
    "atemp_model = GradientBoostingRegressor()\n",
    "\n",
    "model_d = {\n",
    "    'IRRADIATION': irr_model,\n",
    "    'AMBIENT_TEMPERATURE': mtemp_model,\n",
    "    'MODULE_TEMPERATURE': atemp_model,\n",
    "}\n"
   ]
  },
  {
   "cell_type": "code",
   "execution_count": 3,
   "metadata": {},
   "outputs": [
    {
     "name": "stdout",
     "output_type": "stream",
     "text": [
      "Fitting 2 folds for each of 50000 candidates, totalling 100000 fits\n"
     ]
    }
   ],
   "source": [
    "# Applying mdels\n",
    "\n",
    "for k,v in model_d.items():\n",
    "    params, model_d[k] = lightgb_opt(Xs[k][0], ys[k][0])\n",
    "\n"
   ]
  },
  {
   "cell_type": "code",
   "execution_count": 6,
   "metadata": {},
   "outputs": [
    {
     "name": "stderr",
     "output_type": "stream",
     "text": [
      "c:\\Users\\Shadow\\Documents\\Artificial Intelligence\\SolarPW\\src\\data_prep.py:70: SettingWithCopyWarning: \n",
      "A value is trying to be set on a copy of a slice from a DataFrame.\n",
      "Try using .loc[row_indexer,col_indexer] = value instead\n",
      "\n",
      "See the caveats in the documentation: https://pandas.pydata.org/pandas-docs/stable/user_guide/indexing.html#returning-a-view-versus-a-copy\n",
      "  na_df[column] = np.round(trained_model.predict(temp_df), 3)\n",
      "c:\\Users\\Shadow\\Documents\\Artificial Intelligence\\SolarPW\\src\\data_prep.py:70: SettingWithCopyWarning: \n",
      "A value is trying to be set on a copy of a slice from a DataFrame.\n",
      "Try using .loc[row_indexer,col_indexer] = value instead\n",
      "\n",
      "See the caveats in the documentation: https://pandas.pydata.org/pandas-docs/stable/user_guide/indexing.html#returning-a-view-versus-a-copy\n",
      "  na_df[column] = np.round(trained_model.predict(temp_df), 3)\n",
      "c:\\Users\\Shadow\\Documents\\Artificial Intelligence\\SolarPW\\src\\data_prep.py:70: SettingWithCopyWarning: \n",
      "A value is trying to be set on a copy of a slice from a DataFrame.\n",
      "Try using .loc[row_indexer,col_indexer] = value instead\n",
      "\n",
      "See the caveats in the documentation: https://pandas.pydata.org/pandas-docs/stable/user_guide/indexing.html#returning-a-view-versus-a-copy\n",
      "  na_df[column] = np.round(trained_model.predict(temp_df), 3)\n"
     ]
    }
   ],
   "source": [
    "changed_df = write_df(model_d, dfs[1])"
   ]
  },
  {
   "cell_type": "code",
   "execution_count": 4,
   "metadata": {},
   "outputs": [
    {
     "data": {
      "text/html": [
       "<div>\n",
       "<style scoped>\n",
       "    .dataframe tbody tr th:only-of-type {\n",
       "        vertical-align: middle;\n",
       "    }\n",
       "\n",
       "    .dataframe tbody tr th {\n",
       "        vertical-align: top;\n",
       "    }\n",
       "\n",
       "    .dataframe thead th {\n",
       "        text-align: right;\n",
       "    }\n",
       "</style>\n",
       "<table border=\"1\" class=\"dataframe\">\n",
       "  <thead>\n",
       "    <tr style=\"text-align: right;\">\n",
       "      <th></th>\n",
       "      <th>DATE_TIME</th>\n",
       "      <th>AMBIENT_TEMPERATURE</th>\n",
       "      <th>MODULE_TEMPERATURE</th>\n",
       "      <th>IRRADIATION</th>\n",
       "      <th>date</th>\n",
       "      <th>time</th>\n",
       "      <th>time_id</th>\n",
       "    </tr>\n",
       "  </thead>\n",
       "  <tbody>\n",
       "    <tr>\n",
       "      <th>0</th>\n",
       "      <td>2020-05-15 00:00:00</td>\n",
       "      <td>25.184316</td>\n",
       "      <td>22.857507</td>\n",
       "      <td>0.0</td>\n",
       "      <td>2020-05-15</td>\n",
       "      <td>00:00:00</td>\n",
       "      <td>0</td>\n",
       "    </tr>\n",
       "    <tr>\n",
       "      <th>1</th>\n",
       "      <td>2020-05-16 00:00:00</td>\n",
       "      <td>22.711000</td>\n",
       "      <td>20.912000</td>\n",
       "      <td>0.0</td>\n",
       "      <td>2020-05-16</td>\n",
       "      <td>00:00:00</td>\n",
       "      <td>0</td>\n",
       "    </tr>\n",
       "    <tr>\n",
       "      <th>2</th>\n",
       "      <td>2020-05-17 00:00:00</td>\n",
       "      <td>24.170166</td>\n",
       "      <td>21.631490</td>\n",
       "      <td>0.0</td>\n",
       "      <td>2020-05-17</td>\n",
       "      <td>00:00:00</td>\n",
       "      <td>0</td>\n",
       "    </tr>\n",
       "    <tr>\n",
       "      <th>3</th>\n",
       "      <td>2020-05-18 00:00:00</td>\n",
       "      <td>21.155691</td>\n",
       "      <td>20.599400</td>\n",
       "      <td>0.0</td>\n",
       "      <td>2020-05-18</td>\n",
       "      <td>00:00:00</td>\n",
       "      <td>0</td>\n",
       "    </tr>\n",
       "    <tr>\n",
       "      <th>4</th>\n",
       "      <td>2020-05-19 00:00:00</td>\n",
       "      <td>22.610982</td>\n",
       "      <td>20.609906</td>\n",
       "      <td>0.0</td>\n",
       "      <td>2020-05-19</td>\n",
       "      <td>00:00:00</td>\n",
       "      <td>0</td>\n",
       "    </tr>\n",
       "    <tr>\n",
       "      <th>...</th>\n",
       "      <td>...</td>\n",
       "      <td>...</td>\n",
       "      <td>...</td>\n",
       "      <td>...</td>\n",
       "      <td>...</td>\n",
       "      <td>...</td>\n",
       "      <td>...</td>\n",
       "    </tr>\n",
       "    <tr>\n",
       "      <th>3260</th>\n",
       "      <td>2020-06-13 23:45:00</td>\n",
       "      <td>22.205029</td>\n",
       "      <td>20.459212</td>\n",
       "      <td>0.0</td>\n",
       "      <td>2020-06-13</td>\n",
       "      <td>23:45:00</td>\n",
       "      <td>95</td>\n",
       "    </tr>\n",
       "    <tr>\n",
       "      <th>3261</th>\n",
       "      <td>2020-06-14 23:45:00</td>\n",
       "      <td>23.418154</td>\n",
       "      <td>22.447845</td>\n",
       "      <td>0.0</td>\n",
       "      <td>2020-06-14</td>\n",
       "      <td>23:45:00</td>\n",
       "      <td>95</td>\n",
       "    </tr>\n",
       "    <tr>\n",
       "      <th>3262</th>\n",
       "      <td>2020-06-15 23:45:00</td>\n",
       "      <td>23.641211</td>\n",
       "      <td>23.051286</td>\n",
       "      <td>0.0</td>\n",
       "      <td>2020-06-15</td>\n",
       "      <td>23:45:00</td>\n",
       "      <td>95</td>\n",
       "    </tr>\n",
       "    <tr>\n",
       "      <th>3263</th>\n",
       "      <td>2020-06-16 23:45:00</td>\n",
       "      <td>22.892004</td>\n",
       "      <td>21.216600</td>\n",
       "      <td>0.0</td>\n",
       "      <td>2020-06-16</td>\n",
       "      <td>23:45:00</td>\n",
       "      <td>95</td>\n",
       "    </tr>\n",
       "    <tr>\n",
       "      <th>3264</th>\n",
       "      <td>2020-06-17 23:45:00</td>\n",
       "      <td>21.909288</td>\n",
       "      <td>20.427972</td>\n",
       "      <td>0.0</td>\n",
       "      <td>2020-06-17</td>\n",
       "      <td>23:45:00</td>\n",
       "      <td>95</td>\n",
       "    </tr>\n",
       "  </tbody>\n",
       "</table>\n",
       "<p>3265 rows × 7 columns</p>\n",
       "</div>"
      ],
      "text/plain": [
       "               DATE_TIME  AMBIENT_TEMPERATURE  MODULE_TEMPERATURE  \\\n",
       "0    2020-05-15 00:00:00            25.184316           22.857507   \n",
       "1    2020-05-16 00:00:00            22.711000           20.912000   \n",
       "2    2020-05-17 00:00:00            24.170166           21.631490   \n",
       "3    2020-05-18 00:00:00            21.155691           20.599400   \n",
       "4    2020-05-19 00:00:00            22.610982           20.609906   \n",
       "...                  ...                  ...                 ...   \n",
       "3260 2020-06-13 23:45:00            22.205029           20.459212   \n",
       "3261 2020-06-14 23:45:00            23.418154           22.447845   \n",
       "3262 2020-06-15 23:45:00            23.641211           23.051286   \n",
       "3263 2020-06-16 23:45:00            22.892004           21.216600   \n",
       "3264 2020-06-17 23:45:00            21.909288           20.427972   \n",
       "\n",
       "      IRRADIATION        date      time  time_id  \n",
       "0             0.0  2020-05-15  00:00:00        0  \n",
       "1             0.0  2020-05-16  00:00:00        0  \n",
       "2             0.0  2020-05-17  00:00:00        0  \n",
       "3             0.0  2020-05-18  00:00:00        0  \n",
       "4             0.0  2020-05-19  00:00:00        0  \n",
       "...           ...         ...       ...      ...  \n",
       "3260          0.0  2020-06-13  23:45:00       95  \n",
       "3261          0.0  2020-06-14  23:45:00       95  \n",
       "3262          0.0  2020-06-15  23:45:00       95  \n",
       "3263          0.0  2020-06-16  23:45:00       95  \n",
       "3264          0.0  2020-06-17  23:45:00       95  \n",
       "\n",
       "[3265 rows x 7 columns]"
      ]
     },
     "execution_count": 4,
     "metadata": {},
     "output_type": "execute_result"
    }
   ],
   "source": [
    "changed_df"
   ]
  },
  {
   "cell_type": "code",
   "execution_count": 7,
   "metadata": {},
   "outputs": [],
   "source": [
    "changed_df.to_parquet(\"dataset/parquets/plant_2_updated_sensor\")"
   ]
  },
  {
   "cell_type": "code",
   "execution_count": 5,
   "metadata": {},
   "outputs": [
    {
     "name": "stdout",
     "output_type": "stream",
     "text": [
      "0.030222407385012785\n",
      "0.645704153718081\n",
      "-----------\n",
      "0.0034274583141784866\n",
      "0.7828788764509523\n",
      "-----------\n",
      "0.058544498581664245\n",
      "0.8848044283631001\n",
      "-----------\n",
      "0.9599291133296247\n",
      "0.933176971326146\n",
      "-----------\n"
     ]
    }
   ],
   "source": [
    "\n",
    "from src.model import * \n",
    "mods = []\n",
    "\n",
    "m = 'GB'\n",
    "\n",
    "mIrr = GradientBoostingRegressor()\n",
    "mAt = GradientBoostingRegressor()\n",
    "\n",
    "mIrr.fit(Xs['IRRADIATION'][0], ys['IRRADIATION'][0])\n",
    "mAt.fit(Xs['AMBIENT_TEMPERATURE'][0], ys['AMBIENT_TEMPERATURE'][0])\n",
    "I_p = mIrr.predict(Xs['IRRADIATION'][1])\n",
    "a_p = mAt.predict(Xs['AMBIENT_TEMPERATURE'][1])\n",
    "\n",
    "from sklearn.metrics import mean_absolute_error, mean_squared_error, r2_score\n",
    "\n",
    "print(mean_absolute_error(ys['IRRADIATION'][1], I_p))\n",
    "print(mean_absolute_error(ys['AMBIENT_TEMPERATURE'][1], a_p))\n",
    "print(\"-----------\")\n",
    "print(mean_squared_error(ys['IRRADIATION'][1], I_p, squared=True))\n",
    "print(mean_squared_error(ys['AMBIENT_TEMPERATURE'][1], a_p, squared=True))\n",
    "print(\"-----------\")\n",
    "print(mean_squared_error(ys['IRRADIATION'][1], I_p, squared=False))\n",
    "print(mean_squared_error(ys['AMBIENT_TEMPERATURE'][1], a_p, squared=False))\n",
    "print(\"-----------\")\n",
    "print(r2_score(ys['IRRADIATION'][1], I_p))\n",
    "print(r2_score(ys['AMBIENT_TEMPERATURE'][1], a_p))\n",
    "print(\"-----------\")\n",
    "\n",
    "\n",
    "# for m in ['SVM', 'DT', 'RF', 'GB']:\n",
    "#     model, metrics = model_testing(irr_X,irr_y, m)\n",
    "#     mods.append(mods)\n",
    "#     print(f'-----------{m}-----------')\n",
    "#     print(f\"r2:{metrics['r2']}\\nMAE:{metrics['MAE']}\\nMSE:{metrics['MSE']}\\nRMSE:{metrics['RMSE']}\")  "
   ]
  },
  {
   "cell_type": "markdown",
   "metadata": {},
   "source": [
    "Without surprise, Gradient boosting is one of the best models and goes toe to toe with randomforest (And slightly better if we take all metrics into consideration).\n",
    "And quite surprisingly, SVM and Decision Tree are also toe-to-toe but on the lower end.\n",
    "\n",
    "Now we'll try out adding some shallow tuning to see if there's any differences.\n",
    "\n",
    "**UPDATE 1:**\n",
    "Has it look like the computation time for my grids are way too high, reason are combination of many possibilities AND numbers are too high.\n",
    "\n",
    "**Example with SVR**: Computing C as 100 is twice or even thrices the computing time of 50.\n",
    "\n",
    "SO i'm putting my expectations way down to get a first line of sight of the parameters and improvement I could do.\n",
    "For some example of computations time tested (SO far for SVR (sight)) are twice 800 mins and one 1200, each reviewing the grid by nearly halfing it.\n",
    "\n",
    "**UPDATE 2:**\n",
    "The SVR computationnal issue was situated on the fact that a poly kernel doesn't fit well with gamma (need to expand on why exactly though)\n",
    "This was taking ages for nothings.\n",
    "Now should be resolved.|\n",
    "\n",
    "**UPDATE 3:**\n",
    "\n",
    "After simple tuning, we can bost SVM & DT to a way better fitting, for them to be closer to GB & RF.\n",
    "On the other hands, parameters used for fitting RF are not sufficient or too shallow, hence giving an overall worse prediction."
   ]
  },
  {
   "cell_type": "code",
   "execution_count": 1,
   "metadata": {},
   "outputs": [
    {
     "ename": "NameError",
     "evalue": "name 'irr_X' is not defined",
     "output_type": "error",
     "traceback": [
      "\u001b[1;31m---------------------------------------------------------------------------\u001b[0m",
      "\u001b[1;31mNameError\u001b[0m                                 Traceback (most recent call last)",
      "\u001b[1;32mc:\\Users\\Shadow\\Documents\\Artificial Intelligence\\SolarPW\\missliers.ipynb Cell 11\u001b[0m line \u001b[0;36m8\n\u001b[0;32m      <a href='vscode-notebook-cell:/c%3A/Users/Shadow/Documents/Artificial%20Intelligence/SolarPW/missliers.ipynb#X13sZmlsZQ%3D%3D?line=4'>5</a>\u001b[0m \u001b[39mfrom\u001b[39;00m \u001b[39msklearn\u001b[39;00m\u001b[39m.\u001b[39;00m\u001b[39mmetrics\u001b[39;00m \u001b[39mimport\u001b[39;00m r2_score, mean_absolute_error, mean_squared_error\n\u001b[0;32m      <a href='vscode-notebook-cell:/c%3A/Users/Shadow/Documents/Artificial%20Intelligence/SolarPW/missliers.ipynb#X13sZmlsZQ%3D%3D?line=5'>6</a>\u001b[0m \u001b[39mfrom\u001b[39;00m \u001b[39msklearn\u001b[39;00m\u001b[39m.\u001b[39;00m\u001b[39mmodel_selection\u001b[39;00m \u001b[39mimport\u001b[39;00m train_test_split\n\u001b[1;32m----> <a href='vscode-notebook-cell:/c%3A/Users/Shadow/Documents/Artificial%20Intelligence/SolarPW/missliers.ipynb#X13sZmlsZQ%3D%3D?line=7'>8</a>\u001b[0m x_train, x_dev, y_train, y_dev \u001b[39m=\u001b[39m train_test_split(irr_X, irr_y, test_size\u001b[39m=\u001b[39m\u001b[39m0.2\u001b[39m, random_state\u001b[39m=\u001b[39m\u001b[39m42\u001b[39m)\n\u001b[0;32m      <a href='vscode-notebook-cell:/c%3A/Users/Shadow/Documents/Artificial%20Intelligence/SolarPW/missliers.ipynb#X13sZmlsZQ%3D%3D?line=8'>9</a>\u001b[0m extreme \u001b[39m=\u001b[39m xgb\u001b[39m.\u001b[39mXGBRegressor()\n\u001b[0;32m     <a href='vscode-notebook-cell:/c%3A/Users/Shadow/Documents/Artificial%20Intelligence/SolarPW/missliers.ipynb#X13sZmlsZQ%3D%3D?line=9'>10</a>\u001b[0m light \u001b[39m=\u001b[39m lgb\u001b[39m.\u001b[39mLGBMRegressor()\n",
      "\u001b[1;31mNameError\u001b[0m: name 'irr_X' is not defined"
     ]
    }
   ],
   "source": [
    "# Trying out other libraries' \n",
    "import xgboost as xgb\n",
    "import lightgbm as lgb\n",
    "from sklearn.neural_network import MLPRegressor\n",
    "from sklearn.metrics import r2_score, mean_absolute_error, mean_squared_error\n",
    "from sklearn.model_selection import train_test_split\n",
    "\n",
    "x_train, x_dev, y_train, y_dev = train_test_split(irr_X, irr_y, test_size=0.2, random_state=42)\n",
    "extreme = xgb.XGBRegressor()\n",
    "light = lgb.LGBMRegressor()\n",
    "percep = MLPRegressor()\n",
    "\n",
    "extreme.fit(x_train, y_train)\n",
    "light.fit(x_train, y_train)\n",
    "percep.fit(x_train, y_train)\n",
    "\n",
    "preds  = []\n",
    "preds.append(extreme.predict(x_dev))\n",
    "preds.append(light.predict(x_dev))\n",
    "preds.append(percep.predict(x_dev))\n",
    "\n",
    "for index, p in enumerate(preds):\n",
    "    print(index)\n",
    "    print(r2_score(p, y_dev))\n",
    "    print(r2_score(y_dev, p))\n",
    "    print(mean_absolute_error(p, y_dev))\n",
    "    print(mean_absolute_error(y_dev, p))\n",
    "    print(mean_squared_error(y_dev,p, squared=True))\n",
    "    print(mean_squared_error(y_dev,p, squared=False))\n",
    "\n",
    "# Finishing by deeply tuning the expected candidate for best fitting.\n"
   ]
  },
  {
   "cell_type": "markdown",
   "metadata": {},
   "source": [
    "Conclusion: Plain lightgbm is working nearly as well as shallow tuned GB\n",
    "\n",
    "#### Final Tuning\n",
    "\n",
    "For finishing the full tuning process I'll be using random search technique as a part of the last parameter tuning while keeping in mind that the tuning part should be done within a night and/or within additional few hours.\n",
    "\n",
    "Will do it for Common Gradient Boosting and LightGBM as well.\n"
   ]
  },
  {
   "cell_type": "code",
   "execution_count": 1,
   "metadata": {},
   "outputs": [
    {
     "ename": "AttributeError",
     "evalue": "module 'numpy' has no attribute 'int'.\n`np.int` was a deprecated alias for the builtin `int`. To avoid this error in existing code, use `int` by itself. Doing this will not modify any behavior and is safe. When replacing `np.int`, you may wish to use e.g. `np.int64` or `np.int32` to specify the precision. If you wish to review your current use, check the release note link for additional information.\nThe aliases was originally deprecated in NumPy 1.20; for more details and guidance see the original release note at:\n    https://numpy.org/devdocs/release/1.20.0-notes.html#deprecations",
     "output_type": "error",
     "traceback": [
      "\u001b[1;31m---------------------------------------------------------------------------\u001b[0m",
      "\u001b[1;31mAttributeError\u001b[0m                            Traceback (most recent call last)",
      "\u001b[1;32mc:\\Users\\Shadow\\Documents\\Artificial Intelligence\\SolarPW\\missliers.ipynb Cell 11\u001b[0m line \u001b[0;36m1\n\u001b[0;32m      <a href='vscode-notebook-cell:/c%3A/Users/Shadow/Documents/Artificial%20Intelligence/SolarPW/missliers.ipynb#X13sZmlsZQ%3D%3D?line=6'>7</a>\u001b[0m irr_X, irr_y \u001b[39m=\u001b[39m sensor_for_irradiation(dfs[\u001b[39m0\u001b[39m])\n\u001b[0;32m      <a href='vscode-notebook-cell:/c%3A/Users/Shadow/Documents/Artificial%20Intelligence/SolarPW/missliers.ipynb#X13sZmlsZQ%3D%3D?line=8'>9</a>\u001b[0m x_train, x_dev, y_train, y_dev \u001b[39m=\u001b[39m train_test_split(irr_X, irr_y, test_size\u001b[39m=\u001b[39m\u001b[39m0.2\u001b[39m, random_state\u001b[39m=\u001b[39m\u001b[39m42\u001b[39m)\n\u001b[1;32m---> <a href='vscode-notebook-cell:/c%3A/Users/Shadow/Documents/Artificial%20Intelligence/SolarPW/missliers.ipynb#X13sZmlsZQ%3D%3D?line=9'>10</a>\u001b[0m params, model \u001b[39m=\u001b[39m normgb_opt(x_train, y_train)\n",
      "File \u001b[1;32mc:\\Users\\Shadow\\Documents\\Artificial Intelligence\\SolarPW\\src\\optimization.py:33\u001b[0m, in \u001b[0;36mnormgb_opt\u001b[1;34m(x_train, y_train)\u001b[0m\n\u001b[0;32m     20\u001b[0m     param_s \u001b[39m=\u001b[39m {\n\u001b[0;32m     21\u001b[0m         \u001b[39m'\u001b[39m\u001b[39mn_estimators\u001b[39m\u001b[39m'\u001b[39m: Integer(\u001b[39m50\u001b[39m, \u001b[39m200\u001b[39m),\n\u001b[0;32m     22\u001b[0m     }\n\u001b[0;32m     24\u001b[0m     search \u001b[39m=\u001b[39m BayesSearchCV(\n\u001b[0;32m     25\u001b[0m         GradientBoostingRegressor(), \n\u001b[0;32m     26\u001b[0m         param_s,\n\u001b[1;32m   (...)\u001b[0m\n\u001b[0;32m     31\u001b[0m         verbose\u001b[39m=\u001b[39m\u001b[39m2\u001b[39m\n\u001b[0;32m     32\u001b[0m     )\n\u001b[1;32m---> 33\u001b[0m     search\u001b[39m.\u001b[39;49mfit(x_train, y_train)\n\u001b[0;32m     35\u001b[0m     \u001b[39mreturn\u001b[39;00m \u001b[39m0\u001b[39m\n\u001b[0;32m     36\u001b[0m \u001b[39m# search.best_params_, search.best_estimator\u001b[39;00m\n\u001b[0;32m     37\u001b[0m     \u001b[39m# @use_named_args(s)\u001b[39;00m\n\u001b[0;32m     38\u001b[0m     \u001b[39m# def objective_function(**params):\u001b[39;00m\n\u001b[1;32m   (...)\u001b[0m\n\u001b[0;32m     53\u001b[0m     \u001b[39m# final_model = GradientBoostingRegressor(**best_hypp)\u001b[39;00m\n\u001b[0;32m     54\u001b[0m     \u001b[39m# final_model.fit(x_train, y_train)\u001b[39;00m\n",
      "File \u001b[1;32mc:\\Users\\Shadow\\anaconda3\\envs\\tgpu\\Lib\\site-packages\\skopt\\searchcv.py:466\u001b[0m, in \u001b[0;36mBayesSearchCV.fit\u001b[1;34m(self, X, y, groups, callback, **fit_params)\u001b[0m\n\u001b[0;32m    463\u001b[0m \u001b[39melse\u001b[39;00m:\n\u001b[0;32m    464\u001b[0m     \u001b[39mself\u001b[39m\u001b[39m.\u001b[39moptimizer_kwargs_ \u001b[39m=\u001b[39m \u001b[39mdict\u001b[39m(\u001b[39mself\u001b[39m\u001b[39m.\u001b[39moptimizer_kwargs)\n\u001b[1;32m--> 466\u001b[0m \u001b[39msuper\u001b[39;49m()\u001b[39m.\u001b[39;49mfit(X\u001b[39m=\u001b[39;49mX, y\u001b[39m=\u001b[39;49my, groups\u001b[39m=\u001b[39;49mgroups, \u001b[39m*\u001b[39;49m\u001b[39m*\u001b[39;49mfit_params)\n\u001b[0;32m    468\u001b[0m \u001b[39m# BaseSearchCV never ranked train scores,\u001b[39;00m\n\u001b[0;32m    469\u001b[0m \u001b[39m# but apparently we used to ship this (back-compat)\u001b[39;00m\n\u001b[0;32m    470\u001b[0m \u001b[39mif\u001b[39;00m \u001b[39mself\u001b[39m\u001b[39m.\u001b[39mreturn_train_score:\n",
      "File \u001b[1;32mc:\\Users\\Shadow\\anaconda3\\envs\\tgpu\\Lib\\site-packages\\sklearn\\base.py:1151\u001b[0m, in \u001b[0;36m_fit_context.<locals>.decorator.<locals>.wrapper\u001b[1;34m(estimator, *args, **kwargs)\u001b[0m\n\u001b[0;32m   1144\u001b[0m     estimator\u001b[39m.\u001b[39m_validate_params()\n\u001b[0;32m   1146\u001b[0m \u001b[39mwith\u001b[39;00m config_context(\n\u001b[0;32m   1147\u001b[0m     skip_parameter_validation\u001b[39m=\u001b[39m(\n\u001b[0;32m   1148\u001b[0m         prefer_skip_nested_validation \u001b[39mor\u001b[39;00m global_skip_validation\n\u001b[0;32m   1149\u001b[0m     )\n\u001b[0;32m   1150\u001b[0m ):\n\u001b[1;32m-> 1151\u001b[0m     \u001b[39mreturn\u001b[39;00m fit_method(estimator, \u001b[39m*\u001b[39;49margs, \u001b[39m*\u001b[39;49m\u001b[39m*\u001b[39;49mkwargs)\n",
      "File \u001b[1;32mc:\\Users\\Shadow\\anaconda3\\envs\\tgpu\\Lib\\site-packages\\sklearn\\model_selection\\_search.py:898\u001b[0m, in \u001b[0;36mBaseSearchCV.fit\u001b[1;34m(self, X, y, groups, **fit_params)\u001b[0m\n\u001b[0;32m    892\u001b[0m     results \u001b[39m=\u001b[39m \u001b[39mself\u001b[39m\u001b[39m.\u001b[39m_format_results(\n\u001b[0;32m    893\u001b[0m         all_candidate_params, n_splits, all_out, all_more_results\n\u001b[0;32m    894\u001b[0m     )\n\u001b[0;32m    896\u001b[0m     \u001b[39mreturn\u001b[39;00m results\n\u001b[1;32m--> 898\u001b[0m \u001b[39mself\u001b[39;49m\u001b[39m.\u001b[39;49m_run_search(evaluate_candidates)\n\u001b[0;32m    900\u001b[0m \u001b[39m# multimetric is determined here because in the case of a callable\u001b[39;00m\n\u001b[0;32m    901\u001b[0m \u001b[39m# self.scoring the return type is only known after calling\u001b[39;00m\n\u001b[0;32m    902\u001b[0m first_test_score \u001b[39m=\u001b[39m all_out[\u001b[39m0\u001b[39m][\u001b[39m\"\u001b[39m\u001b[39mtest_scores\u001b[39m\u001b[39m\"\u001b[39m]\n",
      "File \u001b[1;32mc:\\Users\\Shadow\\anaconda3\\envs\\tgpu\\Lib\\site-packages\\skopt\\searchcv.py:512\u001b[0m, in \u001b[0;36mBayesSearchCV._run_search\u001b[1;34m(self, evaluate_candidates)\u001b[0m\n\u001b[0;32m    508\u001b[0m \u001b[39mwhile\u001b[39;00m n_iter \u001b[39m>\u001b[39m \u001b[39m0\u001b[39m:\n\u001b[0;32m    509\u001b[0m     \u001b[39m# when n_iter < n_points points left for evaluation\u001b[39;00m\n\u001b[0;32m    510\u001b[0m     n_points_adjusted \u001b[39m=\u001b[39m \u001b[39mmin\u001b[39m(n_iter, n_points)\n\u001b[1;32m--> 512\u001b[0m     optim_result \u001b[39m=\u001b[39m \u001b[39mself\u001b[39;49m\u001b[39m.\u001b[39;49m_step(\n\u001b[0;32m    513\u001b[0m         search_space, optimizer,\n\u001b[0;32m    514\u001b[0m         evaluate_candidates, n_points\u001b[39m=\u001b[39;49mn_points_adjusted\n\u001b[0;32m    515\u001b[0m     )\n\u001b[0;32m    516\u001b[0m     n_iter \u001b[39m-\u001b[39m\u001b[39m=\u001b[39m n_points\n\u001b[0;32m    518\u001b[0m     \u001b[39mif\u001b[39;00m eval_callbacks(callbacks, optim_result):\n",
      "File \u001b[1;32mc:\\Users\\Shadow\\anaconda3\\envs\\tgpu\\Lib\\site-packages\\skopt\\searchcv.py:400\u001b[0m, in \u001b[0;36mBayesSearchCV._step\u001b[1;34m(self, search_space, optimizer, evaluate_candidates, n_points)\u001b[0m\n\u001b[0;32m    397\u001b[0m \u001b[39m\u001b[39m\u001b[39m\"\"\"Generate n_jobs parameters and evaluate them in parallel.\u001b[39;00m\n\u001b[0;32m    398\u001b[0m \u001b[39m\"\"\"\u001b[39;00m\n\u001b[0;32m    399\u001b[0m \u001b[39m# get parameter values to evaluate\u001b[39;00m\n\u001b[1;32m--> 400\u001b[0m params \u001b[39m=\u001b[39m optimizer\u001b[39m.\u001b[39;49mask(n_points\u001b[39m=\u001b[39;49mn_points)\n\u001b[0;32m    402\u001b[0m \u001b[39m# convert parameters to python native types\u001b[39;00m\n\u001b[0;32m    403\u001b[0m params \u001b[39m=\u001b[39m [[np\u001b[39m.\u001b[39marray(v)\u001b[39m.\u001b[39mitem() \u001b[39mfor\u001b[39;00m v \u001b[39min\u001b[39;00m p] \u001b[39mfor\u001b[39;00m p \u001b[39min\u001b[39;00m params]\n",
      "File \u001b[1;32mc:\\Users\\Shadow\\anaconda3\\envs\\tgpu\\Lib\\site-packages\\skopt\\optimizer\\optimizer.py:395\u001b[0m, in \u001b[0;36mOptimizer.ask\u001b[1;34m(self, n_points, strategy)\u001b[0m\n\u001b[0;32m    393\u001b[0m X \u001b[39m=\u001b[39m []\n\u001b[0;32m    394\u001b[0m \u001b[39mfor\u001b[39;00m i \u001b[39min\u001b[39;00m \u001b[39mrange\u001b[39m(n_points):\n\u001b[1;32m--> 395\u001b[0m     x \u001b[39m=\u001b[39m opt\u001b[39m.\u001b[39;49mask()\n\u001b[0;32m    396\u001b[0m     X\u001b[39m.\u001b[39mappend(x)\n\u001b[0;32m    398\u001b[0m     ti_available \u001b[39m=\u001b[39m \u001b[39m\"\u001b[39m\u001b[39mps\u001b[39m\u001b[39m\"\u001b[39m \u001b[39min\u001b[39;00m \u001b[39mself\u001b[39m\u001b[39m.\u001b[39macq_func \u001b[39mand\u001b[39;00m \u001b[39mlen\u001b[39m(opt\u001b[39m.\u001b[39myi) \u001b[39m>\u001b[39m \u001b[39m0\u001b[39m\n",
      "File \u001b[1;32mc:\\Users\\Shadow\\anaconda3\\envs\\tgpu\\Lib\\site-packages\\skopt\\optimizer\\optimizer.py:367\u001b[0m, in \u001b[0;36mOptimizer.ask\u001b[1;34m(self, n_points, strategy)\u001b[0m\n\u001b[0;32m    336\u001b[0m \u001b[39m\u001b[39m\u001b[39m\"\"\"Query point or multiple points at which objective should be evaluated.\u001b[39;00m\n\u001b[0;32m    337\u001b[0m \n\u001b[0;32m    338\u001b[0m \u001b[39mn_points : int or None, default: None\u001b[39;00m\n\u001b[1;32m   (...)\u001b[0m\n\u001b[0;32m    364\u001b[0m \n\u001b[0;32m    365\u001b[0m \u001b[39m\"\"\"\u001b[39;00m\n\u001b[0;32m    366\u001b[0m \u001b[39mif\u001b[39;00m n_points \u001b[39mis\u001b[39;00m \u001b[39mNone\u001b[39;00m:\n\u001b[1;32m--> 367\u001b[0m     \u001b[39mreturn\u001b[39;00m \u001b[39mself\u001b[39;49m\u001b[39m.\u001b[39;49m_ask()\n\u001b[0;32m    369\u001b[0m supported_strategies \u001b[39m=\u001b[39m [\u001b[39m\"\u001b[39m\u001b[39mcl_min\u001b[39m\u001b[39m\"\u001b[39m, \u001b[39m\"\u001b[39m\u001b[39mcl_mean\u001b[39m\u001b[39m\"\u001b[39m, \u001b[39m\"\u001b[39m\u001b[39mcl_max\u001b[39m\u001b[39m\"\u001b[39m]\n\u001b[0;32m    371\u001b[0m \u001b[39mif\u001b[39;00m \u001b[39mnot\u001b[39;00m (\u001b[39misinstance\u001b[39m(n_points, \u001b[39mint\u001b[39m) \u001b[39mand\u001b[39;00m n_points \u001b[39m>\u001b[39m \u001b[39m0\u001b[39m):\n",
      "File \u001b[1;32mc:\\Users\\Shadow\\anaconda3\\envs\\tgpu\\Lib\\site-packages\\skopt\\optimizer\\optimizer.py:434\u001b[0m, in \u001b[0;36mOptimizer._ask\u001b[1;34m(self)\u001b[0m\n\u001b[0;32m    430\u001b[0m \u001b[39mif\u001b[39;00m \u001b[39mself\u001b[39m\u001b[39m.\u001b[39m_n_initial_points \u001b[39m>\u001b[39m \u001b[39m0\u001b[39m \u001b[39mor\u001b[39;00m \u001b[39mself\u001b[39m\u001b[39m.\u001b[39mbase_estimator_ \u001b[39mis\u001b[39;00m \u001b[39mNone\u001b[39;00m:\n\u001b[0;32m    431\u001b[0m     \u001b[39m# this will not make a copy of `self.rng` and hence keep advancing\u001b[39;00m\n\u001b[0;32m    432\u001b[0m     \u001b[39m# our random state.\u001b[39;00m\n\u001b[0;32m    433\u001b[0m     \u001b[39mif\u001b[39;00m \u001b[39mself\u001b[39m\u001b[39m.\u001b[39m_initial_samples \u001b[39mis\u001b[39;00m \u001b[39mNone\u001b[39;00m:\n\u001b[1;32m--> 434\u001b[0m         \u001b[39mreturn\u001b[39;00m \u001b[39mself\u001b[39;49m\u001b[39m.\u001b[39;49mspace\u001b[39m.\u001b[39;49mrvs(random_state\u001b[39m=\u001b[39;49m\u001b[39mself\u001b[39;49m\u001b[39m.\u001b[39;49mrng)[\u001b[39m0\u001b[39m]\n\u001b[0;32m    435\u001b[0m     \u001b[39melse\u001b[39;00m:\n\u001b[0;32m    436\u001b[0m         \u001b[39m# The samples are evaluated starting form initial_samples[0]\u001b[39;00m\n\u001b[0;32m    437\u001b[0m         \u001b[39mreturn\u001b[39;00m \u001b[39mself\u001b[39m\u001b[39m.\u001b[39m_initial_samples[\n\u001b[0;32m    438\u001b[0m             \u001b[39mlen\u001b[39m(\u001b[39mself\u001b[39m\u001b[39m.\u001b[39m_initial_samples) \u001b[39m-\u001b[39m \u001b[39mself\u001b[39m\u001b[39m.\u001b[39m_n_initial_points]\n",
      "File \u001b[1;32mc:\\Users\\Shadow\\anaconda3\\envs\\tgpu\\Lib\\site-packages\\skopt\\space\\space.py:900\u001b[0m, in \u001b[0;36mSpace.rvs\u001b[1;34m(self, n_samples, random_state)\u001b[0m\n\u001b[0;32m    897\u001b[0m columns \u001b[39m=\u001b[39m []\n\u001b[0;32m    899\u001b[0m \u001b[39mfor\u001b[39;00m dim \u001b[39min\u001b[39;00m \u001b[39mself\u001b[39m\u001b[39m.\u001b[39mdimensions:\n\u001b[1;32m--> 900\u001b[0m     columns\u001b[39m.\u001b[39mappend(dim\u001b[39m.\u001b[39;49mrvs(n_samples\u001b[39m=\u001b[39;49mn_samples, random_state\u001b[39m=\u001b[39;49mrng))\n\u001b[0;32m    902\u001b[0m \u001b[39m# Transpose\u001b[39;00m\n\u001b[0;32m    903\u001b[0m \u001b[39mreturn\u001b[39;00m _transpose_list_array(columns)\n",
      "File \u001b[1;32mc:\\Users\\Shadow\\anaconda3\\envs\\tgpu\\Lib\\site-packages\\skopt\\space\\space.py:158\u001b[0m, in \u001b[0;36mDimension.rvs\u001b[1;34m(self, n_samples, random_state)\u001b[0m\n\u001b[0;32m    156\u001b[0m rng \u001b[39m=\u001b[39m check_random_state(random_state)\n\u001b[0;32m    157\u001b[0m samples \u001b[39m=\u001b[39m \u001b[39mself\u001b[39m\u001b[39m.\u001b[39m_rvs\u001b[39m.\u001b[39mrvs(size\u001b[39m=\u001b[39mn_samples, random_state\u001b[39m=\u001b[39mrng)\n\u001b[1;32m--> 158\u001b[0m \u001b[39mreturn\u001b[39;00m \u001b[39mself\u001b[39;49m\u001b[39m.\u001b[39;49minverse_transform(samples)\n",
      "File \u001b[1;32mc:\\Users\\Shadow\\anaconda3\\envs\\tgpu\\Lib\\site-packages\\skopt\\space\\space.py:528\u001b[0m, in \u001b[0;36mInteger.inverse_transform\u001b[1;34m(self, Xt)\u001b[0m\n\u001b[0;32m    523\u001b[0m \u001b[39m\u001b[39m\u001b[39m\"\"\"Inverse transform samples from the warped space back into the\u001b[39;00m\n\u001b[0;32m    524\u001b[0m \u001b[39m   original space.\u001b[39;00m\n\u001b[0;32m    525\u001b[0m \u001b[39m\"\"\"\u001b[39;00m\n\u001b[0;32m    526\u001b[0m \u001b[39m# The concatenation of all transformed dimensions makes Xt to be\u001b[39;00m\n\u001b[0;32m    527\u001b[0m \u001b[39m# of type float, hence the required cast back to int.\u001b[39;00m\n\u001b[1;32m--> 528\u001b[0m inv_transform \u001b[39m=\u001b[39m \u001b[39msuper\u001b[39;49m(Integer, \u001b[39mself\u001b[39;49m)\u001b[39m.\u001b[39;49minverse_transform(Xt)\n\u001b[0;32m    529\u001b[0m \u001b[39mif\u001b[39;00m \u001b[39misinstance\u001b[39m(inv_transform, \u001b[39mlist\u001b[39m):\n\u001b[0;32m    530\u001b[0m     inv_transform \u001b[39m=\u001b[39m np\u001b[39m.\u001b[39marray(inv_transform)\n",
      "File \u001b[1;32mc:\\Users\\Shadow\\anaconda3\\envs\\tgpu\\Lib\\site-packages\\skopt\\space\\space.py:168\u001b[0m, in \u001b[0;36mDimension.inverse_transform\u001b[1;34m(self, Xt)\u001b[0m\n\u001b[0;32m    164\u001b[0m \u001b[39mdef\u001b[39;00m \u001b[39minverse_transform\u001b[39m(\u001b[39mself\u001b[39m, Xt):\n\u001b[0;32m    165\u001b[0m \u001b[39m    \u001b[39m\u001b[39m\"\"\"Inverse transform samples from the warped space back into the\u001b[39;00m\n\u001b[0;32m    166\u001b[0m \u001b[39m       original space.\u001b[39;00m\n\u001b[0;32m    167\u001b[0m \u001b[39m    \"\"\"\u001b[39;00m\n\u001b[1;32m--> 168\u001b[0m     \u001b[39mreturn\u001b[39;00m \u001b[39mself\u001b[39;49m\u001b[39m.\u001b[39;49mtransformer\u001b[39m.\u001b[39;49minverse_transform(Xt)\n",
      "File \u001b[1;32mc:\\Users\\Shadow\\anaconda3\\envs\\tgpu\\Lib\\site-packages\\skopt\\space\\transformers.py:309\u001b[0m, in \u001b[0;36mPipeline.inverse_transform\u001b[1;34m(self, X)\u001b[0m\n\u001b[0;32m    307\u001b[0m \u001b[39mdef\u001b[39;00m \u001b[39minverse_transform\u001b[39m(\u001b[39mself\u001b[39m, X):\n\u001b[0;32m    308\u001b[0m     \u001b[39mfor\u001b[39;00m transformer \u001b[39min\u001b[39;00m \u001b[39mself\u001b[39m\u001b[39m.\u001b[39mtransformers[::\u001b[39m-\u001b[39m\u001b[39m1\u001b[39m]:\n\u001b[1;32m--> 309\u001b[0m         X \u001b[39m=\u001b[39m transformer\u001b[39m.\u001b[39;49minverse_transform(X)\n\u001b[0;32m    310\u001b[0m     \u001b[39mreturn\u001b[39;00m X\n",
      "File \u001b[1;32mc:\\Users\\Shadow\\anaconda3\\envs\\tgpu\\Lib\\site-packages\\skopt\\space\\transformers.py:275\u001b[0m, in \u001b[0;36mNormalize.inverse_transform\u001b[1;34m(self, X)\u001b[0m\n\u001b[0;32m    273\u001b[0m X_orig \u001b[39m=\u001b[39m X \u001b[39m*\u001b[39m (\u001b[39mself\u001b[39m\u001b[39m.\u001b[39mhigh \u001b[39m-\u001b[39m \u001b[39mself\u001b[39m\u001b[39m.\u001b[39mlow) \u001b[39m+\u001b[39m \u001b[39mself\u001b[39m\u001b[39m.\u001b[39mlow\n\u001b[0;32m    274\u001b[0m \u001b[39mif\u001b[39;00m \u001b[39mself\u001b[39m\u001b[39m.\u001b[39mis_int:\n\u001b[1;32m--> 275\u001b[0m     \u001b[39mreturn\u001b[39;00m np\u001b[39m.\u001b[39mround(X_orig)\u001b[39m.\u001b[39mastype(np\u001b[39m.\u001b[39;49mint)\n\u001b[0;32m    276\u001b[0m \u001b[39mreturn\u001b[39;00m X_orig\n",
      "File \u001b[1;32mc:\\Users\\Shadow\\anaconda3\\envs\\tgpu\\Lib\\site-packages\\numpy\\__init__.py:313\u001b[0m, in \u001b[0;36m__getattr__\u001b[1;34m(attr)\u001b[0m\n\u001b[0;32m    308\u001b[0m     warnings\u001b[39m.\u001b[39mwarn(\n\u001b[0;32m    309\u001b[0m         \u001b[39mf\u001b[39m\u001b[39m\"\u001b[39m\u001b[39mIn the future `np.\u001b[39m\u001b[39m{\u001b[39;00mattr\u001b[39m}\u001b[39;00m\u001b[39m` will be defined as the \u001b[39m\u001b[39m\"\u001b[39m\n\u001b[0;32m    310\u001b[0m         \u001b[39m\"\u001b[39m\u001b[39mcorresponding NumPy scalar.\u001b[39m\u001b[39m\"\u001b[39m, \u001b[39mFutureWarning\u001b[39;00m, stacklevel\u001b[39m=\u001b[39m\u001b[39m2\u001b[39m)\n\u001b[0;32m    312\u001b[0m \u001b[39mif\u001b[39;00m attr \u001b[39min\u001b[39;00m __former_attrs__:\n\u001b[1;32m--> 313\u001b[0m     \u001b[39mraise\u001b[39;00m \u001b[39mAttributeError\u001b[39;00m(__former_attrs__[attr])\n\u001b[0;32m    315\u001b[0m \u001b[39mif\u001b[39;00m attr \u001b[39m==\u001b[39m \u001b[39m'\u001b[39m\u001b[39mtesting\u001b[39m\u001b[39m'\u001b[39m:\n\u001b[0;32m    316\u001b[0m     \u001b[39mimport\u001b[39;00m \u001b[39mnumpy\u001b[39;00m\u001b[39m.\u001b[39;00m\u001b[39mtesting\u001b[39;00m \u001b[39mas\u001b[39;00m \u001b[39mtesting\u001b[39;00m\n",
      "\u001b[1;31mAttributeError\u001b[0m: module 'numpy' has no attribute 'int'.\n`np.int` was a deprecated alias for the builtin `int`. To avoid this error in existing code, use `int` by itself. Doing this will not modify any behavior and is safe. When replacing `np.int`, you may wish to use e.g. `np.int64` or `np.int32` to specify the precision. If you wish to review your current use, check the release note link for additional information.\nThe aliases was originally deprecated in NumPy 1.20; for more details and guidance see the original release note at:\n    https://numpy.org/devdocs/release/1.20.0-notes.html#deprecations"
     ]
    }
   ],
   "source": [
    "from sklearn.model_selection import train_test_split\n",
    "from src.optimization import *\n",
    "from src.data_prep import *\n",
    "from src.feature_engineering import *\n",
    "\n",
    "dfs = load_sensor(\"dataset/Plant_1_Weather_Sensor_Data.csv\", save=False)\n",
    "irr_X, irr_y = sensor_for_irradiation(dfs[0])\n",
    "\n",
    "x_train, x_dev, y_train, y_dev = train_test_split(irr_X, irr_y, test_size=0.2, random_state=42)\n",
    "params, model = normgb_opt(x_train, y_train)\n",
    "\n",
    "# Getting dependencies issues for numpy and skopt, might need to change back to grid/randomsearch  "
   ]
  },
  {
   "cell_type": "markdown",
   "metadata": {},
   "source": [
    "#### Testing & Displaying"
   ]
  },
  {
   "cell_type": "markdown",
   "metadata": {},
   "source": [
    "## Testing if getting the same values "
   ]
  },
  {
   "cell_type": "markdown",
   "metadata": {},
   "source": []
  },
  {
   "cell_type": "markdown",
   "metadata": {},
   "source": [
    "After thinking about making a predictions of outputed AC power from irradiation or other, since wew don't have clear and effective links with modules, we could resume this by taking the irradiation's average line, and apply a coefficient onto it to found out AC power.\n",
    "\n",
    "We could eventually could predict a tendency from days to days from Irradiation of the plants as well as the previous days' yield, but I believe we don't have enough data to predict such things. \n",
    "\n",
    "What left to be done:\n",
    "1. fit and load predicted new datasets into a parquet file\n",
    "2. Search if we can have a specific model to calculate a single coefficient between two values (Linear regression maybe as formula state that y = mx + b)\n",
    "3. If we can find a good model, create a quick & clean way to predict the coef.\n",
    "\n",
    "Since I don't have any ways to generate more data and not enough data"
   ]
  },
  {
   "cell_type": "markdown",
   "metadata": {},
   "source": []
  }
 ],
 "metadata": {
  "kernelspec": {
   "display_name": "tgpu",
   "language": "python",
   "name": "python3"
  },
  "language_info": {
   "codemirror_mode": {
    "name": "ipython",
    "version": 3
   },
   "file_extension": ".py",
   "mimetype": "text/x-python",
   "name": "python",
   "nbconvert_exporter": "python",
   "pygments_lexer": "ipython3",
   "version": "3.11.4"
  },
  "orig_nbformat": 4
 },
 "nbformat": 4,
 "nbformat_minor": 2
}
